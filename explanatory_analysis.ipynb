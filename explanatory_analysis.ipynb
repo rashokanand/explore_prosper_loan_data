{
 "cells": [
  {
   "cell_type": "markdown",
   "metadata": {},
   "source": [
    "# Exploring the Prosper Loan dataset\n",
    "## Objective and Overview of dataset\n",
    "In this project I am exploring a dataset containing loan details that have been borrowed on the p2p lending platform 'Prosper'. The dataset contains details of about 113,000 loans such as credit scores, grades and ratings, borrower rates, APR (Annual Percentage Rate), details of last occupation status and many more. My objective with this analysis is to better understand financial services datasets and the common vocabulary used. Also to gain some intuition for data that is captured as part of the loan application and approval process. The process I am following here would be to use visualizations to gain insight.\n",
    "\n",
    "There are 81 attributes and 113k observations in the dataset."
   ]
  },
  {
   "cell_type": "markdown",
   "metadata": {},
   "source": [
    "\n",
    "- Top 10 borrower states\n",
    "- Loan status categories\n",
    "- credit grade distribution\n",
    "- Borrower rate vs Loan status\n",
    "- Borrower state vs Loan status\n",
    "- Employment status vs Loan status\n",
    "- Loan status vs Credit Grade (heatmap)"
   ]
  },
  {
   "cell_type": "markdown",
   "metadata": {},
   "source": [
    "## Top borrower states"
   ]
  },
  {
   "cell_type": "code",
   "execution_count": null,
   "metadata": {},
   "outputs": [],
   "source": []
  },
  {
   "cell_type": "code",
   "execution_count": null,
   "metadata": {},
   "outputs": [],
   "source": []
  },
  {
   "cell_type": "code",
   "execution_count": null,
   "metadata": {},
   "outputs": [],
   "source": []
  },
  {
   "cell_type": "code",
   "execution_count": null,
   "metadata": {},
   "outputs": [],
   "source": []
  },
  {
   "cell_type": "code",
   "execution_count": null,
   "metadata": {},
   "outputs": [],
   "source": []
  },
  {
   "cell_type": "markdown",
   "metadata": {},
   "source": [
    "\n",
    "- Top 10 borrower states\n",
    "- Loan status categories\n",
    "- credit grade distribution\n",
    "- Borrower rate vs Loan status\n",
    "- Borrower state vs Loan status\n",
    "- Employment status vs Loan status\n",
    "- Loan status vs Credit Grade (heatmap)"
   ]
  }
 ],
 "metadata": {
  "kernelspec": {
   "display_name": "Python 3",
   "language": "python",
   "name": "python3"
  },
  "language_info": {
   "codemirror_mode": {
    "name": "ipython",
    "version": 3
   },
   "file_extension": ".py",
   "mimetype": "text/x-python",
   "name": "python",
   "nbconvert_exporter": "python",
   "pygments_lexer": "ipython3",
   "version": "3.7.0"
  }
 },
 "nbformat": 4,
 "nbformat_minor": 2
}
